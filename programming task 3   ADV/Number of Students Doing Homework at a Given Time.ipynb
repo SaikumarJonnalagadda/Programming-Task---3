{
  "nbformat": 4,
  "nbformat_minor": 0,
  "metadata": {
    "colab": {
      "provenance": []
    },
    "kernelspec": {
      "name": "python3",
      "display_name": "Python 3"
    },
    "language_info": {
      "name": "python"
    }
  },
  "cells": [
    {
      "cell_type": "code",
      "execution_count": null,
      "metadata": {
        "id": "hbVJlvtqNEqu"
      },
      "outputs": [],
      "source": [
        "class Solution:\n",
        "    def busyStudent(self, startTime: List[int], endTime: List[int], queryTime: int) -> int:\n",
        "        ans=0\n",
        "        for i in range(len(startTime)):\n",
        "            if startTime[i]<=queryTime<=endTime[i]:\n",
        "                ans+=1\n",
        "        return ans"
      ]
    }
  ]
}