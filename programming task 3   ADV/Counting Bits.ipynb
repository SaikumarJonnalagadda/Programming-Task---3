{
  "nbformat": 4,
  "nbformat_minor": 0,
  "metadata": {
    "colab": {
      "provenance": []
    },
    "kernelspec": {
      "name": "python3",
      "display_name": "Python 3"
    },
    "language_info": {
      "name": "python"
    }
  },
  "cells": [
    {
      "cell_type": "code",
      "execution_count": null,
      "metadata": {
        "id": "hbVJlvtqNEqu"
      },
      "outputs": [],
      "source": [
        "class Solution:\n",
        "    def countBits(self, n: int) -> List[int]:\n",
        "        list1=[0]\n",
        "        for i in range(1,n+1):\n",
        "            a=bin(i).replace(\"0b\", \"\")\n",
        "            p\n",
        "            list1.append(a.count(\"1\"))\n",
        "        return list1\n"
      ]
    }
  ]
}