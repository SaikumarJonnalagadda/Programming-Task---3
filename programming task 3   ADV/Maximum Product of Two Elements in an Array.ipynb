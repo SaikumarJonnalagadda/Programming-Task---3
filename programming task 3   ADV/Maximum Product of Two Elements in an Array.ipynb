{
  "nbformat": 4,
  "nbformat_minor": 0,
  "metadata": {
    "colab": {
      "provenance": []
    },
    "kernelspec": {
      "name": "python3",
      "display_name": "Python 3"
    },
    "language_info": {
      "name": "python"
    }
  },
  "cells": [
    {
      "cell_type": "code",
      "execution_count": null,
      "metadata": {
        "id": "hbVJlvtqNEqu"
      },
      "outputs": [],
      "source": [
        "class Solution:\n",
        "    def maxProduct(self, nums: List[int]) -> int:\n",
        "        nums.sort()\n",
        "        return ((nums[-1]-1)*(nums[-2]-1))"
      ]
    }
  ]
}