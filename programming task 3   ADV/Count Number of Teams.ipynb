{
  "nbformat": 4,
  "nbformat_minor": 0,
  "metadata": {
    "colab": {
      "provenance": []
    },
    "kernelspec": {
      "name": "python3",
      "display_name": "Python 3"
    },
    "language_info": {
      "name": "python"
    }
  },
  "cells": [
    {
      "cell_type": "code",
      "execution_count": null,
      "metadata": {
        "id": "hbVJlvtqNEqu"
      },
      "outputs": [],
      "source": [
        "class Solution:\n",
        "    def numTeams(self, rating: List[int]) -> int:\n",
        "        n = len(rating)\n",
        "        count=0\n",
        "        for j in range(1, n - 1):\n",
        "            i1 = i2 = 0\n",
        "            k1= k2 = 0\n",
        "            for i in range(j):\n",
        "                if rating[i] < rating[j]:\n",
        "                    i1 += 1\n",
        "                elif rating[i] > rating[j]:\n",
        "                    i2 += 1\n",
        "            for k in range(j + 1, n):\n",
        "                if rating[j] < rating[k]:\n",
        "                    k1 += 1\n",
        "                elif rating[j] > rating[k]:\n",
        "                    k2 += 1\n",
        "            count += i1 * k1 \n",
        "            count +=i2 * k2\n",
        "        return count\n",
        "        "
      ]
    }
  ]
}