{
  "nbformat": 4,
  "nbformat_minor": 0,
  "metadata": {
    "colab": {
      "provenance": []
    },
    "kernelspec": {
      "name": "python3",
      "display_name": "Python 3"
    },
    "language_info": {
      "name": "python"
    }
  },
  "cells": [
    {
      "cell_type": "code",
      "execution_count": null,
      "metadata": {
        "id": "hbVJlvtqNEqu"
      },
      "outputs": [],
      "source": [
        "class Solution:\n",
        "    def numberOfSteps(self, num: int) -> int:\n",
        "        count=0\n",
        "        while num>0:\n",
        "            if num%2==0:\n",
        "                num=num/2\n",
        "                count+=1\n",
        "            else:\n",
        "                num=num-1\n",
        "                count+=1\n",
        "        return count"
      ]
    }
  ]
}